{
 "cells": [
  {
   "cell_type": "markdown",
   "metadata": {},
   "source": [
    "### Matrix Multiplication\n",
    "<br/>\n",
    "<br/>\n",
    "Matrix-matrix multiplication (MMM) is an important practical operation from which many applications demand high performance.\n",
    "<br/>\n",
    "Indeed, applying the mathematical definition* of MMM for two square matrix of dimension n gives a complexity order of calcul in $\\mathcal{O}(n^3)$.\n",
    "<br/>\n",
    "<br/>\n",
    "_______________________________*Mathematical definition_______________________________________\n",
    "<br/>\n",
    "<br/>\n",
    "for A,B two matrix respectively of size $n\\times m$ and $m\\times p$, the components of the resulting matrix C of size $n\\times p$ are given by : \n",
    "<br/>\n",
    "$C_{i,j}=\\Sigma_{k=1}^m A_{i,k}B_{k,i}$"
   ]
  },
  {
   "cell_type": "code",
   "execution_count": 1,
   "metadata": {},
   "outputs": [],
   "source": [
    "#a useful function to create empty matrix as we don't use numpy\n",
    "def zeros_matrix(rows, cols):\n",
    "    \"\"\"\n",
    "    Creates a matrix filled with zeros.\n",
    "        :param rows: the number of rows the matrix should have\n",
    "        :param cols: the number of columns the matrix should have\n",
    " \n",
    "        :return: list of lists that form the matrix\n",
    "    \"\"\"\n",
    "    M = []\n",
    "    while len(M) < rows:\n",
    "        M.append([])\n",
    "        while len(M[-1]) < cols:\n",
    "            M[-1].append(0.0)\n",
    " \n",
    "    return M\n",
    "\n",
    "def dummy_matmul(A, B):\n",
    "    \"\"\"\n",
    "    Returns the product of the matrix A * B according to the mathematical definition of MMM\n",
    "        :param A: The first matrix - orders matter.\n",
    "        :param B: The second matrix\n",
    " \n",
    "        :return: The product of the two matrices\n",
    "    \"\"\"\n",
    "    # Section 1: Ensure A & B dimensions are correct for multiplication\n",
    "    rowsA = len(A)\n",
    "    colsA = len(A[0])\n",
    "    rowsB = len(B)\n",
    "    colsB = len(B[0])\n",
    "    if colsA != rowsB:\n",
    "        raise ArithmeticError(\n",
    "            'Number of A columns must equal number of B rows.')\n",
    "    # Section 2: Store matrix multiplication in a new matrix\n",
    "    C = zeros_matrix(rowsA, colsB)\n",
    "    for i in range(rowsA):\n",
    "        for j in range(colsB):\n",
    "            total = 0\n",
    "            for k in range(colsA):\n",
    "                total += A[i][k] * B[k][j]\n",
    "            C[i][j] = total\n",
    " \n",
    "    return C"
   ]
  },
  {
   "cell_type": "markdown",
   "metadata": {},
   "source": [
    "The problem is obvious here as there are three \"for\" interlinked. For bigger shapes it is problematic to calcul many differents MMM in a reasonable amount of time (as in a DL algorithm for instance).\n",
    "<br/>\n",
    "<br/>\n",
    "Unfortunately, there is no magical solution to this problem. The better complexity that we can get currently for square matrix is $\\mathcal{O}(2^{2.3728639})$ with the Coppersmith-Winograd algorithm. It is based on the Strasser algorithm (itself based on the divide and conquer algorithm). Below i implemented a simple version of Strasser algorithm for square matrices."
   ]
  },
  {
   "cell_type": "code",
   "execution_count": 53,
   "metadata": {},
   "outputs": [
    {
     "name": "stdout",
     "output_type": "stream",
     "text": [
      "strassen : [[ 77  86 176 115]\n",
      " [ 12  20  57  51]\n",
      " [ 50  48 113  85]\n",
      " [117  82 165 101]] \n",
      "numpy.dot : [[ 77  86 176 115]\n",
      " [ 12  20  57  51]\n",
      " [ 50  48 113  85]\n",
      " [117  82 165 101]]\n"
     ]
    }
   ],
   "source": [
    "import numpy as np \n",
    "  \n",
    "def split(matrix): \n",
    "    \"\"\" \n",
    "    Splits a given matrix into quarters. \n",
    "    Input: nxn matrix \n",
    "    Output: tuple containing 4 n/2 x n/2 matrices corresponding to a, b, c, d \n",
    "    \"\"\"\n",
    "    row, col = matrix.shape \n",
    "    row2, col2 = row//2, col//2\n",
    "    return matrix[:row2,:col2], matrix[:row2,col2:], matrix[row2:,:col2], matrix[row2:,col2:] \n",
    "  \n",
    "def strassen(x, y): \n",
    "    \"\"\" \n",
    "    Computes matrix product by divide and conquer approach, recursively. \n",
    "    Input: nxn matrices x and y \n",
    "    Output: nxn matrix, product of x and y \n",
    "    \"\"\"\n",
    "    # Base case when size of matrices is 1x1 \n",
    "    if len(x) == 1: \n",
    "        return x * y \n",
    "  \n",
    "    # Splitting the matrices into quadrants. This will be done recursively \n",
    "    # untill the base case is reached. \n",
    "    a, b, c, d = split(x) \n",
    "    e, f, g, h = split(y) \n",
    "  \n",
    "    # Computing the 7 products, recursively (p1, p2...p7) \n",
    "    p1 = strassen(a, f - h)   \n",
    "    p2 = strassen(a + b, h)         \n",
    "    p3 = strassen(c + d, e)         \n",
    "    p4 = strassen(d, g - e)         \n",
    "    p5 = strassen(a + d, e + h)         \n",
    "    p6 = strassen(b - d, g + h)   \n",
    "    p7 = strassen(a - c, e + f)   \n",
    "  \n",
    "    # Computing the values of the 4 quadrants of the final matrix c \n",
    "    c11 = p5 + p4 - p2 + p6   \n",
    "    c12 = p1 + p2            \n",
    "    c21 = p3 + p4             \n",
    "    c22 = p1 + p5 - p3 - p7   \n",
    "  \n",
    "    # Combining the 4 quadrants into a single matrix by stacking horizontally and vertically. \n",
    "    c = np.vstack((np.hstack((c11, c12)), np.hstack((c21, c22))))  \n",
    "  \n",
    "    return c \n",
    "x=np.random.randint(10,size=(4,4))\n",
    "y=np.random.randint(10,size=(4,4))\n",
    "print(\"strassen : {} \\nnumpy.dot : {}\".format(strassen(x,y), np.dot(x,y)))"
   ]
  },
  {
   "cell_type": "markdown",
   "metadata": {},
   "source": [
    "### Useful links :\n",
    "<br/>\n",
    "\n",
    "- https://en.wikipedia.org/wiki/Matrix_multiplication_algorithm\n",
    "- https://www.geeksforgeeks.org/strassens-matrix-multiplication/\n",
    "- Very interesting paper on the computational view of matrix multiplication : https://arxiv.org/pdf/1702.02017.pdf\n"
   ]
  }
 ],
 "metadata": {
  "kernelspec": {
   "display_name": "Python 3",
   "language": "python",
   "name": "python3"
  },
  "language_info": {
   "codemirror_mode": {
    "name": "ipython",
    "version": 3
   },
   "file_extension": ".py",
   "mimetype": "text/x-python",
   "name": "python",
   "nbconvert_exporter": "python",
   "pygments_lexer": "ipython3",
   "version": "3.7.6"
  }
 },
 "nbformat": 4,
 "nbformat_minor": 4
}
